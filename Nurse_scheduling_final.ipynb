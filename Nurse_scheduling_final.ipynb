{
 "cells": [
  {
   "cell_type": "code",
   "execution_count": 5,
   "metadata": {},
   "outputs": [],
   "source": [
    "from dimod import DiscreteQuadraticModel\n",
    "from dwave.system import LeapHybridDQMSampler\n",
    "import networkx as nx\n",
    "import matplotlib.pyplot as plt\n",
    "import numpy as np "
   ]
  },
  {
   "cell_type": "code",
   "execution_count": 2,
   "metadata": {},
   "outputs": [],
   "source": [
    "def get_index(nurse_index, day_index):\n",
    "    return nurse_index * n_days + day_index\n",
    "\n",
    "def get_nurse_and_day(index):\n",
    "    nurse_index, day_index = divmod(index, n_days)\n",
    "    return nurse_index, day_index"
   ]
  },
  {
   "cell_type": "code",
   "execution_count": 8,
   "metadata": {},
   "outputs": [
    {
     "name": "stdout",
     "output_type": "stream",
     "text": [
      "Solution:  {0: 0, 1: 1, 2: 0, 3: 1, 4: 0, 5: 1, 6: 0, 7: 1, 8: 1, 9: 0, 10: 1, 11: 0}\n",
      "Solution energy:  12.199999999999996\n"
     ]
    }
   ],
   "source": [
    "n_nurses = 3      # count nurses n = 1 ... n_nurses\n",
    "n_days = 4      # count scheduling days as d = 1 ... n_days\n",
    "size = n_days * n_nurses\n",
    "valid_edges = []\n",
    "cons_1_valid_edges = []\n",
    "cons_2_valid_edges = []\n",
    "cons_3_valid_edges = []\n",
    "lagrange_hard_shift = 1.3\n",
    "workforce = 1     # Workforce function W(d) - set to a constant for now\n",
    "effort = 1 \n",
    "G = nx.Graph()\n",
    "a = 3.5\n",
    "num_colors = 2\n",
    "colors = range(num_colors)\n",
    "#COns 3\n",
    "lagrange_soft_nurse = 0.3      # Lagrange parameter for soft nurse, gamma\n",
    "preference = 1                # preference function - constant for now\n",
    "min_duty_days = int(n_days/n_nurses)\n",
    "\n",
    "#Valid edges for Cons#1\n",
    "for i in range(size):\n",
    "    if (i+1)%n_days !=0:\n",
    "        cons_1_valid_edges.append((i,i+1))\n",
    "        if((i,i+1) not in valid_edges):\n",
    "            valid_edges.append((i,i+1))\n",
    "        \n",
    "#Valid edges for Cons#2\n",
    "for i in range(size):\n",
    "    for j in range(i,size):\n",
    "        if (j%(n_days)==(i%n_days)):\n",
    "            cons_2_valid_edges.append((i,j))\n",
    "            if((i,j) not in valid_edges):            \n",
    "                valid_edges.append((i,j))\n",
    "#Valid edges for Cons#3\n",
    "for nurse in range(n_nurses):\n",
    "    for day1 in range(n_days):\n",
    "        for day2 in range(day1 + 1, n_days):\n",
    "            ind1 = get_index(nurse, day1)\n",
    "            ind2 = get_index(nurse, day2)\n",
    "            \n",
    "            cons_3_valid_edges.append((ind1,ind2))\n",
    "            if((ind1,ind2) not in valid_edges): \n",
    "                valid_edges.append((ind1,ind2))\n",
    "G.add_edges_from(valid_edges)\n",
    "\n",
    "\n",
    "\n",
    "e_offset = (lagrange_hard_shift * n_days * workforce ** 2) + (lagrange_soft_nurse * n_nurses * min_duty_days ** 2)\n",
    "dqm = DiscreteQuadraticModel()\n",
    "# G.add_edges_from([(0, 1), (1, 2),(2, 3), (4, 5),(5, 6), (6, 7), (8, 9),(9, 10),(10, 11)]) #edges_for_4\n",
    "# Parameters for hard nurse constraint\n",
    "# a is a positive correlation coefficient for implementing the hard nurse\n",
    "# constraint - value provided by Ikeda, Nakamura, Humble\n",
    "\n",
    "# #Constraint1\n",
    "for p in G.nodes:\n",
    "    dqm.add_variable(num_colors, label=p)\n",
    "for p in G.nodes:\n",
    "    dqm.set_linear(p, colors)\n",
    "for p0, p1 in G.edges:\n",
    "    if(p0,p1) in cons_1_valid_edges:\n",
    "        dqm.set_quadratic(p0, p1, {(c, c): a for c in colors})\n",
    "\n",
    "\n",
    "#for cons#2\n",
    "# Parameters for hard shift constraint\n",
    "# Hard shift constraint: at least one nurse working every day\n",
    "# Lagrange parameter, for hard shift constraint, on workforce and effort\n",
    "\n",
    "\n",
    "linear_term = np.linspace(0,1,2)*(lagrange_hard_shift * (effort ** 2 - (2 * workforce * effort)))\n",
    "for p in G.nodes:\n",
    "    dqm.set_linear(p,linear_term)\n",
    "for p0, p1 in G.edges:\n",
    "    if(p0 != p1) and (p0,p1) in cons_2_valid_edges:\n",
    "        dqm.set_quadratic(p0, p1, {(c, c): 2 * lagrange_hard_shift * effort ** 2  for c in colors})\n",
    "\n",
    "#Cons 3\n",
    "linear_term_cons3 = np.linspace(0,1,2)*(lagrange_soft_nurse * (preference ** 2 - (2 * min_duty_days * preference)))\n",
    "for p in G.nodes:\n",
    "    dqm.set_linear(p,linear_term_cons3)\n",
    "for p0, p1 in G.edges:\n",
    "    if(p0 != p1) and (p0,p1) in cons_3_valid_edges and (p0,p1) not in cons_1_valid_edges and (p0,p1) not in cons_2_valid_edges :\n",
    "        dqm.set_quadratic(p0, p1, {(c, c): 2 * lagrange_soft_nurse * preference ** 2  for c in colors})\n",
    "sampler = LeapHybridDQMSampler()\n",
    "sampleset = sampler.sample_dqm(dqm)\n",
    "sample = sampleset.first.sample\n",
    "energy = sampleset.first.energy\n",
    "print(\"Solution: \", sample)\n",
    "print(\"Solution energy: \", energy)\n",
    "\n",
    "#--------------------------------------------------------------#\n"
   ]
  },
  {
   "cell_type": "code",
   "execution_count": 7,
   "metadata": {},
   "outputs": [
    {
     "name": "stdout",
     "output_type": "stream",
     "text": [
      "           0  1  2  3  4  5  6  7  8  9  10\n",
      "Nurse  0      X     X     X     X     X    \n",
      "Nurse  1   X     X     X     X     X     X \n",
      "Nurse  2   X     X     X     X     X     X \n"
     ]
    }
   ],
   "source": [
    "# Graphics\n",
    "sched = [get_nurse_and_day(j) for j in range(size) if sample[j] == 1]\n",
    "str_header_for_output = \" \" * 11\n",
    "str_header_for_output += \"  \".join(map(str, range(n_days)))\n",
    "print(str_header_for_output)\n",
    "for n in range(n_nurses):\n",
    "    str_row = \"\"\n",
    "    for d in range(n_days):\n",
    "        outcome = \"X\" if (n, d) in sched else \" \"\n",
    "        if d > 9:\n",
    "            outcome += \" \"\n",
    "        str_row += \"  \" + outcome\n",
    "    print(\"Nurse \", n, str_row)"
   ]
  },
  {
   "cell_type": "code",
   "execution_count": null,
   "metadata": {},
   "outputs": [],
   "source": []
  }
 ],
 "metadata": {
  "kernelspec": {
   "display_name": "ibmqiskit",
   "language": "python",
   "name": "ibmqiskit"
  },
  "language_info": {
   "codemirror_mode": {
    "name": "ipython",
    "version": 3
   },
   "file_extension": ".py",
   "mimetype": "text/x-python",
   "name": "python",
   "nbconvert_exporter": "python",
   "pygments_lexer": "ipython3",
   "version": "3.7.9"
  }
 },
 "nbformat": 4,
 "nbformat_minor": 5
}
